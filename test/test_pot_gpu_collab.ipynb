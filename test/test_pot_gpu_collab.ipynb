{
  "cells": [
    {
      "cell_type": "markdown",
      "metadata": {
        "id": "OaNc0xxqtDLN"
      },
      "source": [
        "## Clone POT repository and install"
      ]
    },
    {
      "cell_type": "code",
      "execution_count": null,
      "metadata": {
        "colab": {
          "base_uri": "https://localhost:8080/"
        },
        "id": "_pIXS49jsOnA",
        "outputId": "2a49b2e5-4c29-4791-8481-d85d73833f6f"
      },
      "outputs": [],
      "source": [
        "% cd\n",
        "!rm POT -rf\n",
        "!git clone --branch  master https://github.com/PythonOT/POT.git POT\n",
        "% cd POT\n",
        "! pip install -e ."
      ]
    },
    {
      "cell_type": "markdown",
      "metadata": {
        "id": "wxoSbbpeB58Z"
      },
      "source": [
        "## Run tests\n",
        "\n"
      ]
    },
    {
      "cell_type": "code",
      "execution_count": null,
      "metadata": {
        "id": "rzkp9OuVuoXT"
      },
      "outputs": [],
      "source": [
        "!python -m pytest --durations=20 -v test/ --ignore ot/gpu/ --color=yes"
      ]
    }
  ],
  "metadata": {
    "accelerator": "GPU",
    "colab": {
      "name": "test_pot_gpu_collab.ipynb",
      "provenance": []
    },
    "kernelspec": {
      "display_name": "Python 3",
      "name": "python3"
    },
    "language_info": {
      "name": "python"
    }
  },
  "nbformat": 4,
  "nbformat_minor": 0
}
